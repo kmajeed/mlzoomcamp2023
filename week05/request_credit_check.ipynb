{
 "cells": [
  {
   "cell_type": "markdown",
   "id": "3ab0608c-4e2f-42d8-a67a-a708426b2a12",
   "metadata": {},
   "source": [
    "# Notebook to Issue a request to prediction service"
   ]
  },
  {
   "cell_type": "code",
   "execution_count": 1,
   "id": "2058af09-fc0b-47d9-9b20-e1eac124a668",
   "metadata": {
    "tags": []
   },
   "outputs": [],
   "source": [
    "## to use the POST method we use a library named requests\n",
    "import requests "
   ]
  },
  {
   "cell_type": "code",
   "execution_count": 5,
   "id": "4da56732-0461-4eb9-89aa-cfd7efe31dd2",
   "metadata": {
    "tags": []
   },
   "outputs": [],
   "source": [
    "## this is the route we made for prediction\n",
    "url = 'http://localhost:9696/predict' "
   ]
  },
  {
   "cell_type": "code",
   "execution_count": 6,
   "id": "1e399c8e-9086-432f-8081-ef2bba96e58c",
   "metadata": {
    "tags": []
   },
   "outputs": [],
   "source": [
    "customer = {\"job\": \"unknown\", \n",
    "            \"duration\": 270, \n",
    "            \"poutcome\": \"failure\"\n",
    "           }"
   ]
  },
  {
   "cell_type": "code",
   "execution_count": 7,
   "id": "f8720eee-43ee-401d-a029-a1b83dafd477",
   "metadata": {
    "tags": []
   },
   "outputs": [],
   "source": [
    "## post the customer information in json format\n",
    "response = requests.post(url, json=customer) "
   ]
  },
  {
   "cell_type": "code",
   "execution_count": 8,
   "id": "a3cec5c6-b022-472f-b76a-d94d34cae798",
   "metadata": {
    "tags": []
   },
   "outputs": [
    {
     "name": "stdout",
     "output_type": "stream",
     "text": [
      "{'can_have_credit': False, 'credit_probability': 0.13968947052356817}\n"
     ]
    }
   ],
   "source": [
    "## get the server response\n",
    "result = response.json() \n",
    "print(result)"
   ]
  },
  {
   "cell_type": "code",
   "execution_count": 10,
   "id": "7a3ffa2a-6b58-4ff0-9b5a-cd336dcc1e99",
   "metadata": {
    "tags": []
   },
   "outputs": [
    {
     "data": {
      "text/plain": [
       "False"
      ]
     },
     "execution_count": 10,
     "metadata": {},
     "output_type": "execute_result"
    }
   ],
   "source": [
    "result['can_have_credit']"
   ]
  },
  {
   "cell_type": "code",
   "execution_count": 11,
   "id": "139c0a3e-132d-4782-a670-ded2e40cd3a0",
   "metadata": {
    "tags": []
   },
   "outputs": [
    {
     "data": {
      "text/plain": [
       "0.14"
      ]
     },
     "execution_count": 11,
     "metadata": {},
     "output_type": "execute_result"
    }
   ],
   "source": [
    "round(result['credit_probability'],3)"
   ]
  },
  {
   "cell_type": "code",
   "execution_count": null,
   "id": "084eb0b2-f993-47c2-ba0b-10218e54a5b8",
   "metadata": {},
   "outputs": [],
   "source": []
  }
 ],
 "metadata": {
  "kernelspec": {
   "display_name": "Python 3 (ipykernel)",
   "language": "python",
   "name": "python3"
  },
  "language_info": {
   "codemirror_mode": {
    "name": "ipython",
    "version": 3
   },
   "file_extension": ".py",
   "mimetype": "text/x-python",
   "name": "python",
   "nbconvert_exporter": "python",
   "pygments_lexer": "ipython3",
   "version": "3.11.5"
  }
 },
 "nbformat": 4,
 "nbformat_minor": 5
}
