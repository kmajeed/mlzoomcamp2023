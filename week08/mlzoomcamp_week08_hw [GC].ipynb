{
  "metadata": {
    "kernelspec": {
      "display_name": "Python 3",
      "name": "python3"
    },
    "language_info": {
      "name": "python",
      "version": "3.10.12",
      "mimetype": "text/x-python",
      "codemirror_mode": {
        "name": "ipython",
        "version": 3
      },
      "pygments_lexer": "ipython3",
      "nbconvert_exporter": "python",
      "file_extension": ".py"
    },
    "colab": {
      "provenance": [],
      "gpuType": "T4"
    },
    "accelerator": "GPU"
  },
  "nbformat_minor": 0,
  "nbformat": 4,
  "cells": [
    {
      "cell_type": "markdown",
      "source": [
        "## Homework\n",
        "\n",
        "> **Note**: sometimes your answer doesn't match one of\n",
        "> the options exactly. That's fine.\n",
        "> Select the option that's closest to your solution.\n",
        "\n",
        "### Dataset\n",
        "\n",
        "In this homework, we'll build a model for predicting if we have an image of a bee or a wasp.\n",
        "For this, we will use the \"Bee or Wasp?\" dataset that was obtained from [Kaggle](https://www.kaggle.com/datasets/jerzydziewierz/bee-vs-wasp) and slightly rebuilt.\n",
        "\n",
        "You can download the dataset for this homework from [here](https://github.com/SVizor42/ML_Zoomcamp/releases/download/bee-wasp-data/data.zip):\n",
        "\n",
        "```bash\n",
        "wget https://github.com/SVizor42/ML_Zoomcamp/releases/download/bee-wasp-data/data.zip\n",
        "unzip data.zip\n",
        "```\n",
        "\n",
        "In the lectures we saw how to use a pre-trained neural network. In the homework, we'll train a much smaller model from scratch.\n",
        "\n",
        "> **Note:** you will need an environment with a GPU for this homework. We recommend to use [Saturn Cloud](https://bit.ly/saturn-mlzoomcamp).\n",
        "> You can also use a computer without a GPU (e.g. your laptop), but it will be slower."
      ],
      "metadata": {
        "id": "_y33kUmx5Px-"
      }
    },
    {
      "cell_type": "code",
      "source": [
        "!wget https://github.com/SVizor42/ML_Zoomcamp/releases/download/bee-wasp-data/data.zip\n",
        "!unzip data.zip"
      ],
      "metadata": {
        "execution": {
          "iopub.status.busy": "2023-11-14T14:46:06.739001Z",
          "iopub.execute_input": "2023-11-14T14:46:06.739463Z",
          "iopub.status.idle": "2023-11-14T14:54:38.829544Z",
          "shell.execute_reply.started": "2023-11-14T14:46:06.739426Z",
          "shell.execute_reply": "2023-11-14T14:54:38.828357Z"
        },
        "trusted": true,
        "id": "D5N_6sv25PyC"
      },
      "execution_count": null,
      "outputs": []
    },
    {
      "cell_type": "markdown",
      "source": [
        "### Data Preparation\n",
        "\n",
        "The dataset contains around 2500 images of bees and around 2100 images of wasps.\n",
        "\n",
        "The dataset contains separate folders for training and test sets."
      ],
      "metadata": {
        "id": "hNoaU9Tp5PyG"
      }
    },
    {
      "cell_type": "code",
      "source": [
        "import warnings\n",
        "warnings.filterwarnings('ignore')"
      ],
      "metadata": {
        "execution": {
          "iopub.status.busy": "2023-11-14T14:54:38.831535Z",
          "iopub.execute_input": "2023-11-14T14:54:38.831862Z",
          "iopub.status.idle": "2023-11-14T14:54:38.836574Z",
          "shell.execute_reply.started": "2023-11-14T14:54:38.831832Z",
          "shell.execute_reply": "2023-11-14T14:54:38.835664Z"
        },
        "trusted": true,
        "id": "sKZtU1rH5PyH"
      },
      "execution_count": 2,
      "outputs": []
    },
    {
      "cell_type": "code",
      "source": [
        "import numpy as np\n",
        "import matplotlib.pyplot as plt\n",
        "\n",
        "%matplotlib inline"
      ],
      "metadata": {
        "execution": {
          "iopub.status.busy": "2023-11-14T14:54:38.837909Z",
          "iopub.execute_input": "2023-11-14T14:54:38.838306Z",
          "iopub.status.idle": "2023-11-14T14:54:38.850095Z",
          "shell.execute_reply.started": "2023-11-14T14:54:38.838279Z",
          "shell.execute_reply": "2023-11-14T14:54:38.849154Z"
        },
        "trusted": true,
        "id": "leFvDfnb5PyH"
      },
      "execution_count": 3,
      "outputs": []
    },
    {
      "cell_type": "code",
      "source": [
        "import tensorflow as tf\n",
        "from tensorflow import keras"
      ],
      "metadata": {
        "execution": {
          "iopub.status.busy": "2023-11-14T14:54:38.852157Z",
          "iopub.execute_input": "2023-11-14T14:54:38.852529Z",
          "iopub.status.idle": "2023-11-14T14:54:38.861543Z",
          "shell.execute_reply.started": "2023-11-14T14:54:38.852505Z",
          "shell.execute_reply": "2023-11-14T14:54:38.860675Z"
        },
        "trusted": true,
        "id": "lqD4nJd45PyI"
      },
      "execution_count": 4,
      "outputs": []
    },
    {
      "cell_type": "code",
      "source": [
        "from tensorflow.keras.preprocessing.image import load_img"
      ],
      "metadata": {
        "execution": {
          "iopub.status.busy": "2023-11-14T14:54:38.862734Z",
          "iopub.execute_input": "2023-11-14T14:54:38.863078Z",
          "iopub.status.idle": "2023-11-14T14:54:38.872240Z",
          "shell.execute_reply.started": "2023-11-14T14:54:38.863047Z",
          "shell.execute_reply": "2023-11-14T14:54:38.871458Z"
        },
        "trusted": true,
        "id": "5fFK_Cc65PyI"
      },
      "execution_count": 5,
      "outputs": []
    },
    {
      "cell_type": "code",
      "source": [
        "!ls -al data/test/bee/10007154554_026417cfd0_n.jpg"
      ],
      "metadata": {
        "execution": {
          "iopub.status.busy": "2023-11-14T14:56:46.518048Z",
          "iopub.execute_input": "2023-11-14T14:56:46.518451Z",
          "iopub.status.idle": "2023-11-14T14:56:47.536768Z",
          "shell.execute_reply.started": "2023-11-14T14:56:46.518395Z",
          "shell.execute_reply": "2023-11-14T14:56:47.535775Z"
        },
        "trusted": true,
        "colab": {
          "base_uri": "https://localhost:8080/"
        },
        "id": "hWC9QIm45PyJ",
        "outputId": "c756dad5-3d19-4b40-a0a1-438a25bafa8e"
      },
      "execution_count": 6,
      "outputs": [
        {
          "output_type": "stream",
          "name": "stdout",
          "text": [
            "-rw-r--r-- 1 root root 20101 Aug 23  2020 data/test/bee/10007154554_026417cfd0_n.jpg\n"
          ]
        }
      ]
    },
    {
      "cell_type": "code",
      "source": [
        "path = 'data/test/bee'\n",
        "name = '10007154554_026417cfd0_n.jpg'\n",
        "fullname = f'{path}/{name}'\n",
        "load_img(fullname)"
      ],
      "metadata": {
        "execution": {
          "iopub.status.busy": "2023-11-14T14:56:48.541088Z",
          "iopub.execute_input": "2023-11-14T14:56:48.541521Z",
          "iopub.status.idle": "2023-11-14T14:56:48.587517Z",
          "shell.execute_reply.started": "2023-11-14T14:56:48.541481Z",
          "shell.execute_reply": "2023-11-14T14:56:48.586465Z"
        },
        "trusted": true,
        "colab": {
          "base_uri": "https://localhost:8080/",
          "height": 230
        },
        "id": "RxP0FG_25PyJ",
        "outputId": "0580a5bf-fd98-4ddb-e215-53081c58134a"
      },
      "execution_count": 8,
      "outputs": [
        {
          "output_type": "execute_result",
          "data": {
            "text/plain": [
              "<PIL.JpegImagePlugin.JpegImageFile image mode=RGB size=320x213>"
            ],
            "image/png": "[encoded data removed]"
          },
          "metadata": {},
          "execution_count": 8
        }
      ]
    },
    {
      "cell_type": "code",
      "source": [
        "img = load_img(fullname, target_size=(299, 299))\n",
        "x = np.array(img)\n",
        "x.shape"
      ],
      "metadata": {
        "execution": {
          "iopub.status.busy": "2023-11-14T14:56:49.953794Z",
          "iopub.execute_input": "2023-11-14T14:56:49.954189Z",
          "iopub.status.idle": "2023-11-14T14:56:49.963341Z",
          "shell.execute_reply.started": "2023-11-14T14:56:49.954159Z",
          "shell.execute_reply": "2023-11-14T14:56:49.962460Z"
        },
        "trusted": true,
        "colab": {
          "base_uri": "https://localhost:8080/"
        },
        "id": "PUgwfmYg5PyK",
        "outputId": "7a740f2a-09ba-4857-a54c-a228e10ec7d1"
      },
      "execution_count": 9,
      "outputs": [
        {
          "output_type": "execute_result",
          "data": {
            "text/plain": [
              "(299, 299, 3)"
            ]
          },
          "metadata": {},
          "execution_count": 9
        }
      ]
    },
    {
      "cell_type": "markdown",
      "source": [
        "### Model\n",
        "\n",
        "For this homework we will use Convolutional Neural Network (CNN). Like in the lectures, we'll use Keras.\n",
        "\n",
        "You need to develop the model with following structure:\n",
        "\n",
        "* The shape for input should be `(150, 150, 3)`\n",
        "* Next, create a convolutional layer ([`Conv2D`](https://keras.io/api/layers/convolution_layers/convolution2d/)):\n",
        "    * Use 32 filters\n",
        "    * Kernel size should be `(3, 3)` (that's the size of the filter)\n",
        "    * Use `'relu'` as activation\n",
        "* Reduce the size of the feature map with max pooling ([`MaxPooling2D`](https://keras.io/api/layers/pooling_layers/max_pooling2d/))\n",
        "    * Set the pooling size to `(2, 2)`\n",
        "* Turn the multi-dimensional result into vectors using a [`Flatten`](https://keras.io/api/layers/reshaping_layers/flatten/) layer\n",
        "* Next, add a `Dense` layer with 64 neurons and `'relu'` activation\n",
        "* Finally, create the `Dense` layer with 1 neuron - this will be the output\n",
        "    * The output layer should have an activation - use the appropriate activation for the binary classification case\n",
        "\n",
        "As optimizer use [`SGD`](https://keras.io/api/optimizers/sgd/) with the following parameters:\n",
        "\n",
        "* `SGD(lr=0.002, momentum=0.8)`\n",
        "\n",
        "For clarification about kernel size and max pooling, check [Office Hours](https://www.youtube.com/watch?v=1WRgdBTUaAc)."
      ],
      "metadata": {
        "id": "M_SvsjD55PyL"
      }
    },
    {
      "cell_type": "code",
      "source": [
        "# Model architecture:\n",
        "def make_model(input_size = 150, learning_rate=0.002):\n",
        "\n",
        "    #read images of size (150, 150, 3)\n",
        "    inputs = keras.Input(shape=(input_size, input_size, 3))\n",
        "\n",
        "    # create a convolution layer\n",
        "    conv2D = tf.keras.layers.Conv2D(32, 3, activation='relu')(inputs)\n",
        "\n",
        "    # Reduce the size of the feature map with max pooling\n",
        "    maxPooling = keras.layers.MaxPooling2D((2,2))(conv2D)\n",
        "\n",
        "    # Turn the multi-dimensional result into vectors\n",
        "    vectors = keras.layers.Flatten()(maxPooling)\n",
        "\n",
        "    # add a Dense layer with 64 neurons and 'relu' activation\n",
        "    inner = keras.layers.Dense(64, activation='relu')(vectors)\n",
        "\n",
        "    # drop = keras.layers.Dropout(droprate)(inner)\n",
        "    # Finally, create the Dense layer with 1 neuron - this will be the output\n",
        "    outputs = keras.layers.Dense(1, activation = 'sigmoid')(inner)\n",
        "\n",
        "    model = keras.Model(inputs, outputs)\n",
        "\n",
        "    #########################################\n",
        "    # As optimizer use SGD with the following parameters:\n",
        "    # SGD(lr=0.002, momentum=0.8)\n",
        "    optimizer = keras.optimizers.SGD(learning_rate=learning_rate, momentum=0.8)\n",
        "\n",
        "    loss = keras.losses.BinaryCrossentropy()\n",
        "\n",
        "    model.compile(\n",
        "        optimizer=optimizer,\n",
        "        loss=loss,\n",
        "        metrics=['accuracy']\n",
        "    )\n",
        "\n",
        "    return model"
      ],
      "metadata": {
        "execution": {
          "iopub.status.busy": "2023-11-14T15:37:20.239137Z",
          "iopub.execute_input": "2023-11-14T15:37:20.239710Z",
          "iopub.status.idle": "2023-11-14T15:37:20.248647Z",
          "shell.execute_reply.started": "2023-11-14T15:37:20.239667Z",
          "shell.execute_reply": "2023-11-14T15:37:20.247666Z"
        },
        "trusted": true,
        "id": "U8pFHcIF5PyM"
      },
      "execution_count": 10,
      "outputs": []
    },
    {
      "cell_type": "markdown",
      "source": [
        "### Question 1\n",
        "\n",
        "Since we have a binary classification problem, what is the best loss function for us?\n",
        "\n",
        "* `mean squared error`\n",
        "* **`binary crossentropy`**\n",
        "* `categorical crossentropy`\n",
        "* `cosine similarity`\n",
        "\n",
        "> **Note:** since we specify an activation for the output layer, we don't need to set `from_logits=True`"
      ],
      "metadata": {
        "id": "UnjNHXmr5PyM"
      }
    },
    {
      "cell_type": "markdown",
      "source": [
        "### Question 2\n",
        "\n",
        "What's the number of parameters in the convolutional layer of our model? You can use the `summary` method for that.\n",
        "\n",
        "* 1\n",
        "* 65\n",
        "* **896**\n",
        "* 11214912"
      ],
      "metadata": {
        "id": "RDLNmXAx5PyN"
      }
    },
    {
      "cell_type": "code",
      "source": [
        "m1 = make_model(150,0.002)"
      ],
      "metadata": {
        "execution": {
          "iopub.status.busy": "2023-11-14T15:37:25.549227Z",
          "iopub.execute_input": "2023-11-14T15:37:25.550105Z",
          "iopub.status.idle": "2023-11-14T15:37:25.603624Z",
          "shell.execute_reply.started": "2023-11-14T15:37:25.550068Z",
          "shell.execute_reply": "2023-11-14T15:37:25.602689Z"
        },
        "trusted": true,
        "id": "EsK3oJXf5PyN"
      },
      "execution_count": 11,
      "outputs": []
    },
    {
      "cell_type": "code",
      "source": [
        "m1.summary()"
      ],
      "metadata": {
        "execution": {
          "iopub.status.busy": "2023-11-14T15:37:26.206843Z",
          "iopub.execute_input": "2023-11-14T15:37:26.207873Z",
          "iopub.status.idle": "2023-11-14T15:37:26.233064Z",
          "shell.execute_reply.started": "2023-11-14T15:37:26.207817Z",
          "shell.execute_reply": "2023-11-14T15:37:26.232286Z"
        },
        "trusted": true,
        "colab": {
          "base_uri": "https://localhost:8080/"
        },
        "id": "t7Q-yug75PyN",
        "outputId": "32c7d0f0-66f1-4007-dfc9-b07aee5eb7c4"
      },
      "execution_count": 12,
      "outputs": [
        {
          "output_type": "stream",
          "name": "stdout",
          "text": [
            "Model: \"model\"\n",
            "_________________________________________________________________\n",
            " Layer (type)                Output Shape              Param #   \n",
            "=================================================================\n",
            " input_1 (InputLayer)        [(None, 150, 150, 3)]     0         \n",
            "                                                                 \n",
            " conv2d (Conv2D)             (None, 148, 148, 32)      896       \n",
            "                                                                 \n",
            " max_pooling2d (MaxPooling2  (None, 74, 74, 32)        0         \n",
            " D)                                                              \n",
            "                                                                 \n",
            " flatten (Flatten)           (None, 175232)            0         \n",
            "                                                                 \n",
            " dense (Dense)               (None, 64)                11214912  \n",
            "                                                                 \n",
            " dense_1 (Dense)             (None, 1)                 65        \n",
            "                                                                 \n",
            "=================================================================\n",
            "Total params: 11215873 (42.79 MB)\n",
            "Trainable params: 11215873 (42.79 MB)\n",
            "Non-trainable params: 0 (0.00 Byte)\n",
            "_________________________________________________________________\n"
          ]
        }
      ]
    },
    {
      "cell_type": "markdown",
      "source": [
        "### Generators and Training\n",
        "\n",
        "For the next two questions, use the following data generator for both train and test sets:\n",
        "\n",
        "```python\n",
        "ImageDataGenerator(rescale=1./255)\n",
        "```\n",
        "\n",
        "* We don't need to do any additional pre-processing for the images.\n",
        "* When reading the data from train/test directories, check the `class_mode` parameter. Which value should it be for a binary classification problem?\n",
        "* Use `batch_size=20`\n",
        "* Use `shuffle=True` for both training and test sets.\n",
        "\n",
        "For training use `.fit()` with the following params:\n",
        "\n",
        "```python\n",
        "model.fit(\n",
        "    train_generator,\n",
        "    epochs=10,\n",
        "    validation_data=test_generator\n",
        ")\n",
        "```\n",
        "\n",
        ">  Answer: It should be 'binary' to produce 1D labels instead of 2D labels."
      ],
      "metadata": {
        "id": "xUtsdLrj5PyO"
      }
    },
    {
      "cell_type": "code",
      "source": [
        "from tensorflow.keras.preprocessing.image import ImageDataGenerator"
      ],
      "metadata": {
        "execution": {
          "iopub.status.busy": "2023-11-14T14:54:40.280364Z",
          "iopub.execute_input": "2023-11-14T14:54:40.280673Z",
          "iopub.status.idle": "2023-11-14T14:54:40.285227Z",
          "shell.execute_reply.started": "2023-11-14T14:54:40.280649Z",
          "shell.execute_reply": "2023-11-14T14:54:40.284258Z"
        },
        "trusted": true,
        "id": "x5K6JBVL5PyO"
      },
      "execution_count": 13,
      "outputs": []
    },
    {
      "cell_type": "code",
      "source": [
        "input_size = 150\n",
        "\n",
        "train_gen = ImageDataGenerator(rescale=1./255)\n",
        "\n",
        "train_ds = train_gen.flow_from_directory('data/train',\n",
        "                                         target_size=(input_size, input_size),\n",
        "                                         batch_size=20,\n",
        "                                         shuffle = True,\n",
        "                                         class_mode='binary'\n",
        "                                        )"
      ],
      "metadata": {
        "execution": {
          "iopub.status.busy": "2023-11-14T15:38:19.693548Z",
          "iopub.execute_input": "2023-11-14T15:38:19.694284Z",
          "iopub.status.idle": "2023-11-14T15:38:19.853717Z",
          "shell.execute_reply.started": "2023-11-14T15:38:19.694254Z",
          "shell.execute_reply": "2023-11-14T15:38:19.852848Z"
        },
        "trusted": true,
        "colab": {
          "base_uri": "https://localhost:8080/"
        },
        "id": "gRUxHjYQ5PyO",
        "outputId": "aa433e5b-e9ce-4385-c791-56b1a0bbf065"
      },
      "execution_count": 14,
      "outputs": [
        {
          "output_type": "stream",
          "name": "stdout",
          "text": [
            "Found 3677 images belonging to 2 classes.\n"
          ]
        }
      ]
    },
    {
      "cell_type": "code",
      "source": [
        "train_ds.class_indices"
      ],
      "metadata": {
        "execution": {
          "iopub.status.busy": "2023-11-14T15:38:20.807928Z",
          "iopub.execute_input": "2023-11-14T15:38:20.808310Z",
          "iopub.status.idle": "2023-11-14T15:38:20.814533Z",
          "shell.execute_reply.started": "2023-11-14T15:38:20.808277Z",
          "shell.execute_reply": "2023-11-14T15:38:20.813606Z"
        },
        "trusted": true,
        "colab": {
          "base_uri": "https://localhost:8080/"
        },
        "id": "8ffx5lD-5PyP",
        "outputId": "13e484e0-1515-40d0-dae5-211508b574c4"
      },
      "execution_count": 15,
      "outputs": [
        {
          "output_type": "execute_result",
          "data": {
            "text/plain": [
              "{'bee': 0, 'wasp': 1}"
            ]
          },
          "metadata": {},
          "execution_count": 15
        }
      ]
    },
    {
      "cell_type": "code",
      "source": [
        "val_gen = ImageDataGenerator(rescale=1./255)\n",
        "\n",
        "val_ds = val_gen.flow_from_directory('data/test',\n",
        "                                     target_size=(input_size, input_size),\n",
        "                                     batch_size=20,\n",
        "                                     shuffle=True,\n",
        "                                     class_mode='binary'\n",
        "                                    )"
      ],
      "metadata": {
        "execution": {
          "iopub.status.busy": "2023-11-14T15:38:27.606134Z",
          "iopub.execute_input": "2023-11-14T15:38:27.606519Z",
          "iopub.status.idle": "2023-11-14T15:38:27.654106Z",
          "shell.execute_reply.started": "2023-11-14T15:38:27.606477Z",
          "shell.execute_reply": "2023-11-14T15:38:27.653389Z"
        },
        "trusted": true,
        "colab": {
          "base_uri": "https://localhost:8080/"
        },
        "id": "pEK7axMw5PyP",
        "outputId": "c945a658-237f-444e-8ebb-f4c754d6faa4"
      },
      "execution_count": 16,
      "outputs": [
        {
          "output_type": "stream",
          "name": "stdout",
          "text": [
            "Found 918 images belonging to 2 classes.\n"
          ]
        }
      ]
    },
    {
      "cell_type": "code",
      "source": [
        "input_size=150\n",
        "learning_rate = 0.002\n",
        "\n",
        "# define checkpointing\n",
        "checkpoint = keras.callbacks.ModelCheckpoint('model_v1_{epoch:02d}_{val_accuracy:.3f}.h5',\n",
        "                                             save_best_only=True,\n",
        "                                             monitor='val_accuracy',\n",
        "                                             mode='max'\n",
        ")\n",
        "\n",
        "# define model\n",
        "model = make_model(input_size=input_size,\n",
        "                   learning_rate=learning_rate\n",
        ")\n",
        "\n",
        "fit_history = model.fit(train_ds,\n",
        "                        epochs=10,\n",
        "                        validation_data=val_ds,\n",
        "                        callbacks=[checkpoint]\n",
        "                       )"
      ],
      "metadata": {
        "execution": {
          "iopub.status.busy": "2023-11-14T15:38:58.744840Z",
          "iopub.execute_input": "2023-11-14T15:38:58.745565Z",
          "iopub.status.idle": "2023-11-14T15:40:04.625702Z",
          "shell.execute_reply.started": "2023-11-14T15:38:58.745530Z",
          "shell.execute_reply": "2023-11-14T15:40:04.624849Z"
        },
        "trusted": true,
        "colab": {
          "base_uri": "https://localhost:8080/"
        },
        "id": "wfDM0vFg5PyQ",
        "outputId": "75fd60d1-a632-4261-f4fe-3bf15e15db28"
      },
      "execution_count": 17,
      "outputs": [
        {
          "output_type": "stream",
          "name": "stdout",
          "text": [
            "Epoch 1/10\n",
            "184/184 [==============================] - 18s 46ms/step - loss: 0.6760 - accuracy: 0.5668 - val_loss: 0.7024 - val_accuracy: 0.5370\n",
            "Epoch 2/10\n",
            "184/184 [==============================] - 7s 38ms/step - loss: 0.6294 - accuracy: 0.6440 - val_loss: 0.5881 - val_accuracy: 0.6928\n",
            "Epoch 3/10\n",
            "184/184 [==============================] - 8s 44ms/step - loss: 0.5853 - accuracy: 0.6962 - val_loss: 0.5617 - val_accuracy: 0.7059\n",
            "Epoch 4/10\n",
            "184/184 [==============================] - 7s 38ms/step - loss: 0.5387 - accuracy: 0.7454 - val_loss: 0.5735 - val_accuracy: 0.6939\n",
            "Epoch 5/10\n",
            "184/184 [==============================] - 7s 40ms/step - loss: 0.5115 - accuracy: 0.7620 - val_loss: 0.5178 - val_accuracy: 0.7582\n",
            "Epoch 6/10\n",
            "184/184 [==============================] - 8s 44ms/step - loss: 0.4888 - accuracy: 0.7805 - val_loss: 0.5144 - val_accuracy: 0.7603\n",
            "Epoch 7/10\n",
            "184/184 [==============================] - 7s 36ms/step - loss: 0.4538 - accuracy: 0.8023 - val_loss: 0.6747 - val_accuracy: 0.6721\n",
            "Epoch 8/10\n",
            "184/184 [==============================] - 7s 36ms/step - loss: 0.4367 - accuracy: 0.8088 - val_loss: 0.6127 - val_accuracy: 0.6765\n",
            "Epoch 9/10\n",
            "184/184 [==============================] - 10s 52ms/step - loss: 0.4228 - accuracy: 0.8208 - val_loss: 0.5065 - val_accuracy: 0.7495\n",
            "Epoch 10/10\n",
            "184/184 [==============================] - 7s 37ms/step - loss: 0.3948 - accuracy: 0.8314 - val_loss: 0.5028 - val_accuracy: 0.7614\n"
          ]
        }
      ]
    },
    {
      "cell_type": "code",
      "source": [
        "plt.plot(fit_history.history['val_accuracy'], label='val')\n",
        "plt.plot(fit_history.history['accuracy'], label='train')\n",
        "plt.xticks(np.arange(10))\n",
        "plt.legend()"
      ],
      "metadata": {
        "execution": {
          "iopub.status.busy": "2023-11-14T15:40:30.093714Z",
          "iopub.execute_input": "2023-11-14T15:40:30.094099Z",
          "iopub.status.idle": "2023-11-14T15:40:30.415177Z",
          "shell.execute_reply.started": "2023-11-14T15:40:30.094066Z",
          "shell.execute_reply": "2023-11-14T15:40:30.414133Z"
        },
        "trusted": true,
        "colab": {
          "base_uri": "https://localhost:8080/",
          "height": 447
        },
        "id": "0qnkBgYW5PyR",
        "outputId": "e8b6a295-2f0d-4d87-86d1-a51e805427bd"
      },
      "execution_count": 18,
      "outputs": [
        {
          "output_type": "execute_result",
          "data": {
            "text/plain": [
              "<matplotlib.legend.Legend at 0x7bef88fb0dc0>"
            ]
          },
          "metadata": {},
          "execution_count": 18
        },
        {
          "output_type": "display_data",
          "data": {
            "text/plain": [
              "<Figure size 640x480 with 1 Axes>"
            ],
            "image/png": "[encoded data removed]"
          },
          "metadata": {}
        }
      ]
    },
    {
      "cell_type": "markdown",
      "source": [
        "### Question 3\n",
        "\n",
        "What is the median of training accuracy for all the epochs for this model?\n",
        "\n",
        "* 0.20\n",
        "* 0.40\n",
        "* 0.60\n",
        "* **0.80**"
      ],
      "metadata": {
        "id": "6b5xuG4i5PyS"
      }
    },
    {
      "cell_type": "code",
      "source": [
        "round(np.median(fit_history.history['accuracy']),2)"
      ],
      "metadata": {
        "execution": {
          "iopub.status.busy": "2023-11-14T15:41:52.504775Z",
          "iopub.execute_input": "2023-11-14T15:41:52.505185Z",
          "iopub.status.idle": "2023-11-14T15:41:52.512746Z",
          "shell.execute_reply.started": "2023-11-14T15:41:52.505154Z",
          "shell.execute_reply": "2023-11-14T15:41:52.511662Z"
        },
        "trusted": true,
        "colab": {
          "base_uri": "https://localhost:8080/"
        },
        "id": "iRyylxhq5PyS",
        "outputId": "5b2f77c9-1a95-4fbb-acf1-862b4f15ac04"
      },
      "execution_count": 19,
      "outputs": [
        {
          "output_type": "execute_result",
          "data": {
            "text/plain": [
              "0.77"
            ]
          },
          "metadata": {},
          "execution_count": 19
        }
      ]
    },
    {
      "cell_type": "code",
      "source": [
        "import os\n",
        "dir_to_delete = './'\n",
        "with os.scandir(dir_to_delete) as entries:\n",
        "    for entry in entries:\n",
        "        file_to_delete = f\"{dir_to_delete}{entry.name}\"\n",
        "        if os.path.isfile(file_to_delete):\n",
        "            if \"model_v1\" in file_to_delete:\n",
        "                print(file_to_delete)\n",
        "                ###############################################os.remove(file_to_delete)"
      ],
      "metadata": {
        "execution": {
          "iopub.status.busy": "2023-11-14T15:42:14.094798Z",
          "iopub.execute_input": "2023-11-14T15:42:14.095189Z",
          "iopub.status.idle": "2023-11-14T15:42:14.102000Z",
          "shell.execute_reply.started": "2023-11-14T15:42:14.095156Z",
          "shell.execute_reply": "2023-11-14T15:42:14.101007Z"
        },
        "trusted": true,
        "colab": {
          "base_uri": "https://localhost:8080/"
        },
        "id": "JFOVypTl5PyT",
        "outputId": "a4335d3b-d95d-4003-d69a-7590b54eb10b"
      },
      "execution_count": 22,
      "outputs": [
        {
          "output_type": "stream",
          "name": "stdout",
          "text": [
            "./model_v1_05_0.758.h5\n",
            "./model_v1_01_0.537.h5\n",
            "./model_v1_06_0.760.h5\n",
            "./model_v1_03_0.706.h5\n",
            "./model_v1_02_0.693.h5\n",
            "./model_v1_10_0.761.h5\n"
          ]
        }
      ]
    },
    {
      "cell_type": "markdown",
      "source": [
        "### Question 4\n",
        "\n",
        "What is the standard deviation of training loss for all the epochs for this model?\n",
        "\n",
        "* 0.031\n",
        "* 0.061\n",
        "* **0.091**\n",
        "* 0.131"
      ],
      "metadata": {
        "id": "oBhE45615PyT"
      }
    },
    {
      "cell_type": "code",
      "source": [
        "round(np.std(fit_history.history['loss']),3)"
      ],
      "metadata": {
        "execution": {
          "iopub.status.busy": "2023-11-14T15:42:18.383643Z",
          "iopub.execute_input": "2023-11-14T15:42:18.384053Z",
          "iopub.status.idle": "2023-11-14T15:42:18.391181Z",
          "shell.execute_reply.started": "2023-11-14T15:42:18.383979Z",
          "shell.execute_reply": "2023-11-14T15:42:18.390143Z"
        },
        "trusted": true,
        "colab": {
          "base_uri": "https://localhost:8080/"
        },
        "id": "eTlwc82p5PyT",
        "outputId": "fa26f66c-4d96-493f-b575-3c463f8925a0"
      },
      "execution_count": 23,
      "outputs": [
        {
          "output_type": "execute_result",
          "data": {
            "text/plain": [
              "0.088"
            ]
          },
          "metadata": {},
          "execution_count": 23
        }
      ]
    },
    {
      "cell_type": "markdown",
      "source": [
        "### Data Augmentation\n",
        "\n",
        "For the next two questions, we'll generate more data using data augmentations.\n",
        "\n",
        "Add the following augmentations to your training data generator:\n",
        "\n",
        "* `rotation_range=50,`\n",
        "* `width_shift_range=0.1,`\n",
        "* `height_shift_range=0.1,`\n",
        "* `zoom_range=0.1,`\n",
        "* `horizontal_flip=True,`\n",
        "* `fill_mode='nearest'`"
      ],
      "metadata": {
        "id": "Z7KDHG_05PyU"
      }
    },
    {
      "cell_type": "code",
      "source": [
        "# Add augmentations to training data generator\n",
        "train_gen = ImageDataGenerator(rescale = 1./255,\n",
        "                               rotation_range=50,\n",
        "                               width_shift_range=0.1,\n",
        "                               height_shift_range=0.1,\n",
        "                               zoom_range=0.1,\n",
        "                               horizontal_flip=True,\n",
        "                               fill_mode='nearest')\n",
        "\n",
        "# get new data\n",
        "train_ds = train_gen.flow_from_directory('data/train',target_size=(input_size, input_size),\n",
        "                                         batch_size=20,\n",
        "                                         shuffle = True,\n",
        "                                         class_mode = 'binary')\n",
        "\n",
        "# validation data is not augmented\n",
        "val_gen = ImageDataGenerator(rescale = 1./255)\n",
        "# get validation data\n",
        "val_ds = val_gen.flow_from_directory('data/test',\n",
        "                                     target_size=(input_size, input_size),\n",
        "                                     batch_size=20,\n",
        "                                     shuffle=True,\n",
        "                                     class_mode = 'binary')"
      ],
      "metadata": {
        "execution": {
          "iopub.status.busy": "2023-11-14T16:03:57.087819Z",
          "iopub.execute_input": "2023-11-14T16:03:57.088799Z",
          "iopub.status.idle": "2023-11-14T16:03:57.311586Z",
          "shell.execute_reply.started": "2023-11-14T16:03:57.088761Z",
          "shell.execute_reply": "2023-11-14T16:03:57.310604Z"
        },
        "trusted": true,
        "colab": {
          "base_uri": "https://localhost:8080/"
        },
        "id": "rPCdhrMK5PyU",
        "outputId": "58b3b650-da02-498d-8e33-9b6b501bd337"
      },
      "execution_count": 24,
      "outputs": [
        {
          "output_type": "stream",
          "name": "stdout",
          "text": [
            "Found 3677 images belonging to 2 classes.\n",
            "Found 918 images belonging to 2 classes.\n"
          ]
        }
      ]
    },
    {
      "cell_type": "markdown",
      "source": [
        "### Question 5\n",
        "\n",
        "Let's train our model for 10 more epochs using the same code as previously.\n",
        "> **Note:** make sure you don't re-create the model - we want to continue training the model\n",
        "we already started training."
      ],
      "metadata": {
        "id": "jWT7FWan5PyV"
      }
    },
    {
      "cell_type": "code",
      "source": [
        "!ls -al model_v1_10_0.761.h5"
      ],
      "metadata": {
        "execution": {
          "iopub.status.busy": "2023-11-14T16:07:43.250433Z",
          "iopub.execute_input": "2023-11-14T16:07:43.250966Z",
          "iopub.status.idle": "2023-11-14T16:07:44.263152Z",
          "shell.execute_reply.started": "2023-11-14T16:07:43.250920Z",
          "shell.execute_reply": "2023-11-14T16:07:44.262119Z"
        },
        "trusted": true,
        "colab": {
          "base_uri": "https://localhost:8080/"
        },
        "id": "LV7wIF4R5PyW",
        "outputId": "1b18ee21-119b-4ff3-841b-16fc74b8a595"
      },
      "execution_count": 26,
      "outputs": [
        {
          "output_type": "stream",
          "name": "stdout",
          "text": [
            "-rw-r--r-- 1 root root 89758768 Nov 14 17:37 model_v1_10_0.761.h5\n"
          ]
        }
      ]
    },
    {
      "cell_type": "code",
      "source": [
        "# reloading the last (best) model from previous training\n",
        "reloaded_model = keras.models.load_model('model_v1_10_0.761.h5')\n",
        "#model_v1_09_0.760.h5')\n"
      ],
      "metadata": {
        "execution": {
          "iopub.status.busy": "2023-11-14T16:10:51.728658Z",
          "iopub.execute_input": "2023-11-14T16:10:51.729440Z",
          "iopub.status.idle": "2023-11-14T16:10:52.235256Z",
          "shell.execute_reply.started": "2023-11-14T16:10:51.729397Z",
          "shell.execute_reply": "2023-11-14T16:10:52.234353Z"
        },
        "trusted": true,
        "id": "fOmZGdww5PyW"
      },
      "execution_count": 27,
      "outputs": []
    },
    {
      "cell_type": "code",
      "source": [
        "# define new checkpoints\n",
        "checkpoint = keras.callbacks.ModelCheckpoint('model_v2_1_{epoch:02d}_{val_accuracy:.3f}.h5',\n",
        "                                             save_best_only=True,\n",
        "                                             monitor='val_accuracy',\n",
        "                                             mode='max')\n",
        "\n",
        "\n",
        "# fit the model\n",
        "history = reloaded_model.fit(train_ds,\n",
        "                             epochs=10,\n",
        "                             validation_data=val_ds,\n",
        "                             callbacks=[checkpoint])"
      ],
      "metadata": {
        "execution": {
          "iopub.status.busy": "2023-11-14T16:12:29.238042Z",
          "iopub.execute_input": "2023-11-14T16:12:29.238502Z",
          "iopub.status.idle": "2023-11-14T16:17:00.175965Z",
          "shell.execute_reply.started": "2023-11-14T16:12:29.238468Z",
          "shell.execute_reply": "2023-11-14T16:17:00.174958Z"
        },
        "trusted": true,
        "colab": {
          "base_uri": "https://localhost:8080/"
        },
        "id": "Qho-K8sx5PyX",
        "outputId": "49e2f8f0-260e-4775-cc61-98d06926b129"
      },
      "execution_count": 28,
      "outputs": [
        {
          "output_type": "stream",
          "name": "stdout",
          "text": [
            "Epoch 1/10\n",
            "184/184 [==============================] - 27s 144ms/step - loss: 0.5027 - accuracy: 0.7675 - val_loss: 0.5464 - val_accuracy: 0.7331\n",
            "Epoch 2/10\n",
            "184/184 [==============================] - 26s 143ms/step - loss: 0.4945 - accuracy: 0.7661 - val_loss: 0.5310 - val_accuracy: 0.7331\n",
            "Epoch 3/10\n",
            "184/184 [==============================] - 26s 142ms/step - loss: 0.4853 - accuracy: 0.7773 - val_loss: 0.4746 - val_accuracy: 0.7854\n",
            "Epoch 4/10\n",
            "184/184 [==============================] - 27s 144ms/step - loss: 0.4733 - accuracy: 0.7824 - val_loss: 0.4685 - val_accuracy: 0.7745\n",
            "Epoch 5/10\n",
            "184/184 [==============================] - 27s 146ms/step - loss: 0.4783 - accuracy: 0.7748 - val_loss: 0.5217 - val_accuracy: 0.7658\n",
            "Epoch 6/10\n",
            "184/184 [==============================] - 26s 140ms/step - loss: 0.4810 - accuracy: 0.7729 - val_loss: 0.4768 - val_accuracy: 0.7876\n",
            "Epoch 7/10\n",
            "184/184 [==============================] - 26s 141ms/step - loss: 0.4704 - accuracy: 0.7871 - val_loss: 0.5015 - val_accuracy: 0.7495\n",
            "Epoch 8/10\n",
            "184/184 [==============================] - 28s 150ms/step - loss: 0.4533 - accuracy: 0.7933 - val_loss: 0.4726 - val_accuracy: 0.7702\n",
            "Epoch 9/10\n",
            "184/184 [==============================] - 25s 136ms/step - loss: 0.4643 - accuracy: 0.7890 - val_loss: 0.4771 - val_accuracy: 0.7832\n",
            "Epoch 10/10\n",
            "184/184 [==============================] - 27s 146ms/step - loss: 0.4648 - accuracy: 0.7803 - val_loss: 0.4610 - val_accuracy: 0.7996\n"
          ]
        }
      ]
    },
    {
      "cell_type": "markdown",
      "source": [
        "What is the mean of test loss for all the epochs for the model trained with augmentations?\n",
        "\n",
        "* 0.18\n",
        "* 0.48\n",
        "* 0.78\n",
        "* 0.108"
      ],
      "metadata": {
        "id": "qRwWz8VZ5PyX"
      }
    },
    {
      "cell_type": "code",
      "source": [
        "# https://stackoverflow.com/questions/63488782/how-do-you-display-values-in-a-pandas-dataframe-column-with-2-decimal-places\n",
        "print(\"Mean of teast loss for augmented mdoel is : {:,.2f}\".format(np.mean(history.history['val_loss'])))"
      ],
      "metadata": {
        "execution": {
          "iopub.status.busy": "2023-11-14T16:22:20.724764Z",
          "iopub.execute_input": "2023-11-14T16:22:20.725128Z",
          "iopub.status.idle": "2023-11-14T16:22:20.730507Z",
          "shell.execute_reply.started": "2023-11-14T16:22:20.725098Z",
          "shell.execute_reply": "2023-11-14T16:22:20.729435Z"
        },
        "trusted": true,
        "colab": {
          "base_uri": "https://localhost:8080/"
        },
        "id": "qBf-2RC05PyX",
        "outputId": "47fe2c2b-549d-4338-eb12-2b43002e7c6f"
      },
      "execution_count": 29,
      "outputs": [
        {
          "output_type": "stream",
          "name": "stdout",
          "text": [
            "Mean of teast loss for augmented mdoel is : 0.49\n"
          ]
        }
      ]
    },
    {
      "cell_type": "markdown",
      "source": [
        "### Question 6\n",
        "\n",
        "What's the average of test accuracy for the last 5 epochs (from 6 to 10)\n",
        "for the model trained with augmentations?\n",
        "\n",
        "* 0.38\n",
        "* 0.58\n",
        "* 0.78\n",
        "* 0.98"
      ],
      "metadata": {
        "id": "zk9ZSpMw5PyY"
      }
    },
    {
      "cell_type": "code",
      "source": [
        "# define last five slicer\n",
        "last_five_slice = slice(-5, None)\n",
        "test_accuracy_last_five = history.history['val_accuracy'][last_five_slice]\n",
        "print(\"Mean of teast loss for augmented mdoel is : {:,.2f}\".format(np.mean(test_accuracy_last_five)))"
      ],
      "metadata": {
        "execution": {
          "iopub.status.busy": "2023-11-14T16:29:37.006013Z",
          "iopub.execute_input": "2023-11-14T16:29:37.006377Z",
          "iopub.status.idle": "2023-11-14T16:29:37.012308Z",
          "shell.execute_reply.started": "2023-11-14T16:29:37.006346Z",
          "shell.execute_reply": "2023-11-14T16:29:37.011257Z"
        },
        "trusted": true,
        "colab": {
          "base_uri": "https://localhost:8080/"
        },
        "id": "D-3AjY2U5PyY",
        "outputId": "7df1d5c8-b28b-4cc4-a4b9-9529edbbd618"
      },
      "execution_count": 30,
      "outputs": [
        {
          "output_type": "stream",
          "name": "stdout",
          "text": [
            "Mean of teast loss for augmented mdoel is : 0.78\n"
          ]
        }
      ]
    },
    {
      "cell_type": "markdown",
      "source": [
        "## Submit the results\n",
        "\n",
        "- Submit your results here: https://forms.gle/5sjtM3kzY9TmLmU17\n",
        "- If your answer doesn't match options exactly, select the closest one\n",
        "- You can submit your solution multiple times. In this case, only the last submission will be used\n",
        "\n",
        "\n",
        "## Deadline\n",
        "\n",
        "The deadline for submitting is November 20 (Monday), 23:00 CEST. After that the form will be closed."
      ],
      "metadata": {
        "id": "T-QYS4L45PyZ"
      }
    },
    {
      "cell_type": "code",
      "source": [],
      "metadata": {
        "id": "SI0GEnB95Pyt"
      },
      "execution_count": null,
      "outputs": []
    }
  ]
}